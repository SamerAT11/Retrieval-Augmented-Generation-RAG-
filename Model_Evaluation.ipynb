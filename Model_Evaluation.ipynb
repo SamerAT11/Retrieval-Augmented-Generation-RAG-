{
  "cells": [
    {
      "cell_type": "code",
      "execution_count": null,
      "metadata": {
        "id": "ZAUP_T_bXIJz"
      },
      "outputs": [],
      "source": [
        "llm_model = 'gpt-3.5-turbo-1106'"
      ]
    },
    {
      "cell_type": "code",
      "execution_count": null,
      "metadata": {
        "id": "Lekc3F0QXIJ1",
        "outputId": "838b97b4-fe4e-4a8a-99bf-cfdb1f105039"
      },
      "outputs": [
        {
          "name": "stdout",
          "output_type": "stream",
          "text": [
            "210\n"
          ]
        },
        {
          "data": {
            "text/plain": [
              "[Document(page_content=\"name: 黒岩秀行\\ncompany: ジムショDan代表\\nprofile: Graduated from Keio University's Faculty of Economics in 1987, and joined Dentsu Co., Ltd. in the same year. From 1987 to 1997, worked as a copywriter and CM planner in the Creative Department, handling clients such as Ajinomoto, Coca-Cola Japan, Fumakilla, and Adelans. Received numerous awards including the Dentsu Award. From 1997 to 2020, held various positions in the Sales Department (currently Business Produce Department), working with clients such as Shiseido, Nippon Life, HIS, Yoshimoto Kogyo, and various publishing companies including Bungeishunju. Became the Sales Department Manager in 2005, focusing on planning and implementing large-scale campaigns. Currently, engaged as a member of the subsidiary of Dentsu, New Horizon Collective, under a business outsourcing contract. Graduated from the 43rd class of the 'Advertising Conference' editorial writer training course, receiving an award for outstanding graduation work. With 34 years of experience at the aforementioned advertising agency, I aim to introduce corporate initiatives or societal events through articles and writing. Will handle tasks such as creating business newsletters and producing articles as content (including interviews), while aiming to bridge the gap between corporate values and challenges and the needs and wants of people. Particularly knowledgeable in PR and communication-related fields, specializing in cultural and social articles, but will respond to a wide range of areas based on client requests.\", metadata={'source': 'better-members.csv', 'row': 0, 'title': 'Producer, Planning Director', 'occupations': 'Account Planning/Production, Creative (Copywriter/CM Planner)', 'industries': 'Food/Agriculture, Beverages/Confectionery, Cosmetics/Toiletries, Publishing, Finance/Insurance'}),\n",
              " Document(page_content=\"name: 阿部光史\\ncompany: 株式会社ガリアーノインスピレーションズ\\nprofile: Born in Kobe. Graduated from the Department of Architecture at Musashino Art University. After working at Dentsu Kansai Branch and Beacon Communications, he played an active role as a Creative Director at Dentsu Headquarters. He retired at the end of 2020 and joined New Horizon Collective. Founded Galiano Inspirations Co., Ltd. with the theme of 'Creating the Future.' Notable works include campaigns for Aiful, the 'Mameshiba' anime CD, Try Group (private tutoring), Kirin, P&G, Nestle, Colopl, Twitter Japan, and Amex. Received numerous domestic and international advertising awards from TCC to Cannes. Ranked 1st in the CM Favorability Ranking in 2004 and 2005. Will serve as a part-time lecturer at Tokyo Polytechnic University from spring 2022.\", metadata={'source': 'better-members.csv', 'row': 1, 'title': 'Creative Director and CM Planner', 'occupations': 'Creative (Copywriter/CM Planner), Content Business/Sports Business, Global', 'industries': 'Food/Agriculture, Beverages/Confectionery, Pharmaceuticals/Medical Supplies, Cosmetics/Toiletries, Home Appliances/AV Equipment, Automobiles/Related Products, Information/Communication, Distribution/Retail, Finance/Insurance, Transportation/Leisure, Education/Medical Services/Religion'}),\n",
              " Document(page_content=\"name: 足立敏和\\ncompany: True North Strategy 株式会社\\nprofile: I believe I have a decent strategic insight. While I may not always win, I take great joy in finding a winning strategy in a position that is not necessarily strong and with limited resources. I aspire to become a unique presence in business, like a 'strategist', by multiplying 'strategy' x 'marketing' x 'information technology' x 'global communication skills' to create uniqueness.\", metadata={'source': 'better-members.csv', 'row': 2, 'title': 'Strategist', 'occupations': 'Account Planning/Production, Marketing/Concept Development/Strategic Planning/Research', 'industries': 'Cosmetics/Toiletries, Home Appliances/AV Equipment, Household Goods, Hobbies/Sports Equipment, Information/Communication, Transportation/Leisure'})]"
            ]
          },
          "execution_count": 4,
          "metadata": {},
          "output_type": "execute_result"
        }
      ],
      "source": [
        "from langchain.document_loaders.csv_loader import CSVLoader\n",
        "\n",
        "csv_file_path = 'better-members.csv'\n",
        "data = CSVLoader(\n",
        "    file_path=csv_file_path,\n",
        "    encoding='utf-8',\n",
        "    metadata_columns=['title', 'occupations', 'industries']\n",
        ").load()\n",
        "\n",
        "print(len(data))\n",
        "data[:3]"
      ]
    },
    {
      "cell_type": "code",
      "execution_count": null,
      "metadata": {
        "id": "uv2k-756iVzE"
      },
      "outputs": [],
      "source": [
        "from langchain_openai import OpenAIEmbeddings\n",
        "embedding = OpenAIEmbeddings()"
      ]
    },
    {
      "cell_type": "code",
      "execution_count": null,
      "metadata": {
        "id": "3BL1lrrCXIJ2"
      },
      "outputs": [],
      "source": [
        "from langchain.vectorstores import FAISS\n",
        "\n",
        "vectordb = FAISS.from_documents(\n",
        "    documents=data, embedding=embedding\n",
        ")"
      ]
    },
    {
      "cell_type": "code",
      "execution_count": null,
      "metadata": {
        "id": "3sNFNHOXpKJ9"
      },
      "outputs": [],
      "source": [
        "from langchain_openai import ChatOpenAI\n",
        "llm = ChatOpenAI(model_name=llm_model, temperature=0)"
      ]
    },
    {
      "cell_type": "code",
      "execution_count": null,
      "metadata": {
        "id": "jYhyewbvXIJ3"
      },
      "outputs": [],
      "source": [
        "import langchain\n",
        "from langchain.memory import ConversationBufferMemory\n",
        "from langchain.chains import LLMChain, ConversationalRetrievalChain\n",
        "from IPython.display import display, Pretty\n",
        "\n",
        "memory = ConversationBufferMemory(\n",
        "    memory_key=\"chat_history\",\n",
        "    input_key='question',\n",
        "    output_key='answer',\n",
        "    return_messages=True\n",
        ")\n",
        "retriever = vectordb.as_retriever(\n",
        "    search_kwargs={'k':5}\n",
        ")\n",
        "\n",
        "def chat(question, reset_memory=False, debug=False, verbose=False):\n",
        "    langchain.debug = False\n",
        "    if reset_memory: memory.clear()\n",
        "\n",
        "    qa_chain = ConversationalRetrievalChain.from_llm(\n",
        "        llm=llm,\n",
        "        retriever=retriever,\n",
        "        memory=memory,\n",
        "        verbose=verbose,\n",
        "        return_source_documents=True\n",
        "    )\n",
        "\n",
        "    if debug:  # debug overcome verbose\n",
        "        langchain.debug = True\n",
        "        result = qa_chain({\"question\": question})\n",
        "        langchain.debug = False\n",
        "    else:\n",
        "        result = qa_chain({\"question\": question})\n",
        "        display(Pretty(result['answer']))\n",
        "\n",
        "    return result"
      ]
    },
    {
      "cell_type": "markdown",
      "metadata": {
        "id": "8dPim-SwXIJ3"
      },
      "source": [
        "## Sensei's Questions"
      ]
    },
    {
      "cell_type": "markdown",
      "metadata": {
        "id": "FyqLyTk0XIJ4"
      },
      "source": [
        "### Q0. Accounting"
      ]
    },
    {
      "cell_type": "code",
      "execution_count": null,
      "metadata": {
        "colab": {
          "base_uri": "https://localhost:8080/"
        },
        "id": "iuwez_Yxr8Eg",
        "outputId": "8e64ed8c-5100-44ca-ba7a-5aecdb62555a"
      },
      "outputs": [
        {
          "name": "stdout",
          "output_type": "stream",
          "text": [
            "\n",
            "\n",
            "\u001b[1m> Entering new StuffDocumentsChain chain...\u001b[0m\n",
            "\n",
            "\n",
            "\u001b[1m> Entering new LLMChain chain...\u001b[0m\n",
            "Prompt after formatting:\n",
            "\u001b[32;1m\u001b[1;3mSystem: Use the following pieces of context to answer the user's question. \n",
            "If you don't know the answer, just say that you don't know, don't try to make up an answer.\n",
            "----------------\n",
            "name: 江上徹\n",
            "company: Leapfrog合同会社　代表\n",
            "profile: Armed with the combination of 'accounting x English', I am capable of providing a wide range of services including consulting, internal and external audits, and corporate training. [Accounting] With approximately 10 years of experience in a certified public accounting firm and another 10 years in corporate accounting, I possess extensive practical experience in accounting, as well as profound insights in auditing, internal controls, etc. (Certified Public Accountant registration number: 41477). [English] In addition to a total of about 5 years of overseas assignments, during my tenure in the company, I regularly conducted video conferences as the contact point for overseas offices, demonstrating a level of English proficiency suitable for practical business (TOEIC score: 975). [Achievements] Leveraging the abundant knowledge of 'accounting x English', I have accumulated the following achievements: - Consulting for the introduction of new accounting standards - Support for closing operations in the accounting department - Audit operations - J-SOX support for overseas offices in the internal audit department, etc. Furthermore, based on my own experience of acquiring English proficiency through accumulation rather than being a returnee, I am capable of providing corporate training from the perspective of how ordinary Japanese individuals should improve their English proficiency.\n",
            "\n",
            "name: 小林照隆\n",
            "company: \n",
            "profile: CFO experience in China (Beijing, Shanghai) and Asia region (Singapore), proficient in English and Chinese, licensed tax accountant, Certified Public Accountant (CPA) in the United States, certified analyst by the Japan Securities Analysts Association\n",
            "\n",
            "name: 松繁宗彰\n",
            "company: 松繁宗彰税理士事務所\n",
            "profile: Certified Public Tax Accountant (Member of the Kojimachi Branch of the Tokyo Certified Public Tax Accountants' Association) 1996/3 - 1999/8 Grant Thornton Certified Public Tax Accountants' Corporation 1999/9 - 2014/9 Ernst & Young Certified Public Tax Accountants' Corporation--- 2003/10-2007/12 Seconded to Ernst & Young London--- 2008/1-2010/6 Seconded to Ernst & Young Amsterdam 2014/10 Joined Dentsu Inc., Tax Management Department, Accounting Bureau as a dedicated department manager 2015/7 Promoted to department head 2020/1 Concurrently appointed as Tax Leader of Dentsu Group 2020/12 Resigned from Dentsu Inc.\n",
            "\n",
            "name: 高地悟史\n",
            "company: \n",
            "profile: Loves money, aspired to be a venture entrepreneur and tried to start a company. A US certified public accountant who cannot speak English. Wants to work to death once more.\n",
            "\n",
            "name: 大島剛\n",
            "company: 大島剛商店\n",
            "profile: As a consultant, I listen to a wide range of consultations and conversations, from advertising and marketing to business succession and life planning, and work together to find solutions. As a basic ability for that, I have obtained national qualifications such as career consultant qualification, self-study for 21 years to obtain Nissho bookkeeping 3rd and 2nd grade (expected to be obtained in March), FP 3rd and 2nd grade, and IT passport (information security management). Currently, I am working on business in various fields such as multiple local companies in Okinawa, JR East group companies, and venture companies. During my time at Dentsu, I had a wide range of experiences as a generalist advertising man, including basic business of advertising agency, event planning and exhibition, and risk management, although I do not have outstanding expertise.\n",
            "Human: Please introduce me a specialist of accounting.\u001b[0m\n",
            "\n",
            "\u001b[1m> Finished chain.\u001b[0m\n",
            "\n",
            "\u001b[1m> Finished chain.\u001b[0m\n"
          ]
        },
        {
          "data": {
            "text/plain": [
              "I recommend 江上徹, who is a Certified Public Accountant with extensive experience in both accounting and English proficiency. He has approximately 10 years of experience in a certified public accounting firm and another 10 years in corporate accounting, making him a seasoned professional in the field. Additionally, he has experience in consulting, internal and external audits, and corporate training, making him a well-rounded specialist in accounting."
            ]
          },
          "metadata": {},
          "output_type": "display_data"
        }
      ],
      "source": [
        "result0 = chat(\"Please introduce me a specialist of accounting.\", reset_memory=True, verbose=True)"
      ]
    },
    {
      "cell_type": "markdown",
      "metadata": {
        "id": "psn-MEgyXIJ4"
      },
      "source": [
        "### Q1. Marketer"
      ]
    },
    {
      "cell_type": "code",
      "execution_count": null,
      "metadata": {
        "id": "kvbZjE31XIJ5",
        "outputId": "19787d51-8f34-4203-9b2b-55235550fa8a"
      },
      "outputs": [
        {
          "name": "stdout",
          "output_type": "stream",
          "text": [
            "\n",
            "\n",
            "\u001b[1m> Entering new StuffDocumentsChain chain...\u001b[0m\n",
            "\n",
            "\n",
            "\u001b[1m> Entering new LLMChain chain...\u001b[0m\n",
            "Prompt after formatting:\n",
            "\u001b[32;1m\u001b[1;3mSystem: Use the following pieces of context to answer the user's question. \n",
            "If you don't know the answer, just say that you don't know, don't try to make up an answer.\n",
            "----------------\n",
            "name: 宮本史郎\n",
            "company: \n",
            "profile: I want to contribute to the development of marketing that does not rely on so-called 'selling' activities such as campaigns, promotions, discounts, and advertisements.\n",
            "\n",
            "name: 田邉守\n",
            "company: 田邉守\n",
            "profile: Through over 30 years of practical experience as a business producer at Dentsu, I have acquired skills in marketing communication operations as well as an international business sense through a total of over 10 years of overseas assignments. Throughout my career as a business person, I have excelled in 1) effectively utilizing resources available in the 'field' to solve challenges, 2) creating 'new encounters and matching' for stakeholders, and 3) generating 'positive chemistry.' These are my favorite and proficient areas. I will wholeheartedly assist you in solving your business challenges. Shall we start with a conversation?\n",
            "\n",
            "name: 村上容\n",
            "company: \n",
            "profile: I have been dedicated to sales. I have experience working in regional areas and have been involved in various industries such as automobiles, travel, daily necessities, and fashion, in various forms of work including media, events, and development. I was also a member of the Junior Chamber International (Osaka Junior Chamber, Japan Junior Chamber), which became a catalyst for considering becoming a freelancer. I also want to leverage the knowledge I gained at an advertising agency with a perspective similar to that of a small and medium-sized enterprise owner.\n",
            "\n",
            "name: 江口英宏\n",
            "company: \n",
            "profile: Experienced in advertising and marketing work for domestic and Brazilian corporations. Particularly in Brazil, has experience in establishing and operating information dissemination facilities under the Japanese government, and has connections with various industries in the local area. Aiming to develop business and advertising operations in Brazil.\n",
            "\n",
            "name: 二村暢朗\n",
            "company: 株式会社ハビタットラボ\n",
            "profile: As a marketing director at Dentsu, I have been in charge of various clients ranging from major to emerging companies, including home appliances, alcoholic beverages, pharmaceuticals, housing equipment, food, confectionery, franchise businesses, foreign-affiliated daily necessities, energy, BtoB companies, and government agencies. My expertise lies in consulting to address a wide range of management issues. I handle everything from business planning to corporate branding and product marketing, and provide advice to management on various domestic and global issues, drawing on my own cross-industry experiences as appropriate. Since 2018, I have been serving as a special professor at the Osaka Graduate School of Business where I am responsible for conducting exercises and seminars on business planning. In 2021, I established Habitat Lab to support small businesses and companies in the prototype stage of new businesses in local communities as a lab that supports the conception of sustainable businesses to enhance the happiness value of regional areas.\n",
            "Human: Can you please introduce me to a good marketer?\u001b[0m\n",
            "\n",
            "\u001b[1m> Finished chain.\u001b[0m\n",
            "\n",
            "\u001b[1m> Finished chain.\u001b[0m\n"
          ]
        },
        {
          "data": {
            "text/plain": [
              "Based on the profiles provided, I would recommend introducing you to 二村暢朗, the marketing director at 株式会社ハビタットラボ. He has extensive experience in marketing and has worked with a wide range of clients, from major to emerging companies, across various industries. Additionally, he has expertise in consulting to address management issues and has been serving as a special professor at the Osaka Graduate School of Business. His experience and knowledge could be valuable in addressing your marketing needs."
            ]
          },
          "metadata": {},
          "output_type": "display_data"
        }
      ],
      "source": [
        "result1 = chat(\"Can you please introduce me to a good marketer?\", reset_memory=True, verbose=True)"
      ]
    },
    {
      "cell_type": "markdown",
      "metadata": {
        "id": "vAFf1JLqXIJ5"
      },
      "source": [
        "### Q2. Creative specialists"
      ]
    },
    {
      "cell_type": "code",
      "execution_count": null,
      "metadata": {
        "id": "LycQ_xt6XIJ5",
        "outputId": "4f0f9877-48f9-4459-f762-84fb6ea32dd9"
      },
      "outputs": [
        {
          "name": "stdout",
          "output_type": "stream",
          "text": [
            "\n",
            "\n",
            "\u001b[1m> Entering new StuffDocumentsChain chain...\u001b[0m\n",
            "\n",
            "\n",
            "\u001b[1m> Entering new LLMChain chain...\u001b[0m\n",
            "Prompt after formatting:\n",
            "\u001b[32;1m\u001b[1;3mSystem: Use the following pieces of context to answer the user's question. \n",
            "If you don't know the answer, just say that you don't know, don't try to make up an answer.\n",
            "----------------\n",
            "name: 市原弘一\n",
            "company: dansima\n",
            "profile: During my time at Dentsu, I consistently handled large-scale clients, contemplating what kind of thinking, imagery, and words are necessary to grow their brands. From the fundamental concept to the concrete expression, I was responsible for the entire process of brand development. I am eager to collaborate with hardworking entrepreneurs and decisive business leaders, regardless of company size. Let's savor the joys and pains of creation together. My official title is Creative Director, and depending on the project, I also work as a copywriter.\n",
            "\n",
            "name: 京井良彦\n",
            "company: 株式会社１／１　代表取締役\n",
            "profile: Born in 1969. Worked at Dentsu for 20 years until 2020, then became independent. Serves as a business designer and creative director. Specializes in utilizing creativity beyond the advertising field, handling not only brand and marketing strategies but also many innovation business developments and management strategies. Participated in Cannes Lions and SXSW, and has extensive knowledge of cutting-edge cases, with numerous speaking engagements. Graduated over 1,000 students from the communication course as a lecturer at Tokyo City University. Hosts the blog '3-Minute Business School.' Authored books such as 'Long Engagement' (translated into Korean and Thai) and 'Introduction to Planning Presentation Not Taught in School or Company.'\n",
            "\n",
            "name: 宮下裕介\n",
            "company: Action Creative\n",
            "profile: Yusuke Miyashita started his career at Dentsu in April 1989 as a copywriter. In April 1995, he became a CM planner at Dentsu Kyushu. In April 2018, he became the department head, creative director, and photographer at 5CRP, marking the first time such a job title was created in Dentsu CR history. He left Dentsu in December 2020 and established Action Creative in January 2021 (http://action-creative.com/). He is responsible for directing all creative work, from consulting on client marketing to planning, production, and verification of advertisements. He excels in designing creatives that drive product movement, from top-funnel platforms like TV commercials and YouTube to middle and bottom-funnel strategies. He also conducts steel photography for talents, individuals, spaces, and food as a photographer under the name Goro Miyashita and leads the NH Professional Photography Team (http://www.goromiyashita.com/). He has received numerous awards, including the London International Advertising Award, IBA Award, New York Festival, TCC Newcomer Award, ACC Award, Mainichi Advertising Design Award (semi-grand prix, double award), All Japan CM Contest Excellence Award, Dentsu Advertising Award, All Japan CM Festival FCC Award, Fukuoka Advertising Association Award, CM Award Representing the Year, Kobunsha Color Advertising Contest, Consumer Beneficial Advertising Contest JAA Chairman's Award, and many other domestic and international awards. As a photographer under the name Goro Miyashita, he won the Shashin Shinseiki Award. He has authored books such as 'Zero Overseas Experience, But Still TOEIC 900 Points' (PHP Institute), 'The Textbook of Failure' (Fusosha), and 'Mr. Department Head' (Asahi Shimbun Saturday Edition BE, serialized weekly from 2016 to 2019). His photo collections include 'WINDOWS_NY' and 'MY FAVORITE PLACE.' He has also served as a lecturer at Aoyama Gakuin University, Showa Women's University, Ochanomizu University, Atomi University, Jumonji Women's University, Musashi University, and Kyushu Sangyo University.\n",
            "\n",
            "name: 栗原敏雄\n",
            "company: KURIO creative partners Inc（クリオ クリエーティブ パートナーズ株式会社）\n",
            "profile: Representative Director of KURIO creative partners Inc. While working at Dentsu, was responsible for devising and implementing mass communication strategies in the creative department. Worked in Kansai from 1987 to 2001, and later in Tokyo. Handled major clients such as household appliance manufacturers, automobile manufacturers, beverage manufacturers, railways, and energy-related companies. Has received numerous advertising awards. Wants to leverage being over 60 to come up with ideas. Aims to realize creative work for seniors, by seniors, and for seniors. Areas of interest for future endeavors: development of platforms exclusively for seniors, contributing to society in ways that benefit seniors. Development of platforms that capture and utilize the thoughts of seniors. It's okay to have products, services, and entertainment developed by 60-year-olds for 80-year-olds. Hopes for companies that support this. Aims to realize creative work for seniors, by seniors, and for seniors in Japan, a super-aged society.\n",
            "\n",
            "name: R Kawakami\n",
            "company: \n",
            "profile: Consultant specializing in planning related to digital media and other areas\n",
            "Human: Please tell us about creative specialists and their backgrounds\u001b[0m\n",
            "\n",
            "\u001b[1m> Finished chain.\u001b[0m\n",
            "\n",
            "\u001b[1m> Finished chain.\u001b[0m\n"
          ]
        },
        {
          "data": {
            "text/plain": [
              "Here are some creative specialists and their backgrounds:\n",
              "\n",
              "1. **市原弘一 (Dansima)**: Worked at Dentsu, handling large-scale clients and responsible for the entire process of brand development. Official title is Creative Director and also works as a copywriter.\n",
              "\n",
              "2. **京井良彦 (株式会社１／１)**: Worked at Dentsu for 20 years, specializing in utilizing creativity beyond the advertising field, handling brand and marketing strategies, innovation business developments, and management strategies. Also a lecturer and author of books related to planning and presentation.\n",
              "\n",
              "3. **宮下裕介 (Action Creative)**: Started as a copywriter at Dentsu, then became a creative director and photographer. Established Action Creative and excels in designing creatives that drive product movement, from top-funnel platforms like TV commercials to middle and bottom-funnel strategies.\n",
              "\n",
              "4. **栗原敏雄 (KURIO creative partners Inc)**: Representative Director of KURIO creative partners Inc. While working at Dentsu, was responsible for devising and implementing mass communication strategies in the creative department. Aims to realize creative work for seniors, by seniors, and for seniors in Japan, a super-aged society.\n",
              "\n",
              "5. **R Kawakami**: A consultant specializing in planning related to digital media and other areas.\n",
              "\n",
              "I hope this helps!"
            ]
          },
          "metadata": {},
          "output_type": "display_data"
        }
      ],
      "source": [
        "result2 = chat(\"Please tell us about creative specialists and their backgrounds\", reset_memory=True, verbose=True)"
      ]
    },
    {
      "cell_type": "markdown",
      "metadata": {
        "id": "n8cKSQjfXIJ6"
      },
      "source": [
        "### Q3. Automobile industry"
      ]
    },
    {
      "cell_type": "code",
      "execution_count": null,
      "metadata": {
        "id": "tXDgbKh-XIJ6",
        "outputId": "ed1858ee-c602-4bd7-9a04-34479de01bc5"
      },
      "outputs": [
        {
          "name": "stdout",
          "output_type": "stream",
          "text": [
            "\n",
            "\n",
            "\u001b[1m> Entering new StuffDocumentsChain chain...\u001b[0m\n",
            "\n",
            "\n",
            "\u001b[1m> Entering new LLMChain chain...\u001b[0m\n",
            "Prompt after formatting:\n",
            "\u001b[32;1m\u001b[1;3mSystem: Use the following pieces of context to answer the user's question. \n",
            "If you don't know the answer, just say that you don't know, don't try to make up an answer.\n",
            "----------------\n",
            "name: スズキユージ\n",
            "company: 株式会社WHITE STUDIO\n",
            "profile: Owns American cars for a quarter of a century. Currently struggling as a father of two. His wife is a photographer specializing in chocolate. They have a small photography studio. He works as the Creative Director for BMW/MINI and also for the minivan division.\n",
            "\n",
            "name: 塩田京子\n",
            "company: High touch\n",
            "profile: I have extensive experience in talent development at Dentsu. I would like to help discover and deliver various hidden charms of people, things, and regions from various perspectives. I am also involved in challenging upcycling by connecting items that cannot be sold as regular products due to minor scratches with intellectual disability welfare workshops.\n",
            "\n",
            "name: 芝　匠\n",
            "company: 株式会社サードオピニオン\n",
            "profile: Transitioned from a transportation agency to a venture company before joining Dentsu. Spent half of my career at Dentsu in out-of-home advertising and sales. During my time in out-of-home advertising, I supported Tokyo's bid activities and was responsible for partnerships with three companies for the Tokyo 2020 Games. Feeling unfulfilled, I now aim to engage in activities at NH that are more conscious of 'contributing to society through sports.'\n",
            "\n",
            "name: 江坂俊弥\n",
            "company: 江坂俊弥\n",
            "profile: Specializes in brand, sales, and public relations strategies for automotive and medical brands. Also involved in sports business development, event production, and urban development production.\n",
            "\n",
            "name: 福井常晶\n",
            "company: リアドライブ合同会社\n",
            "profile: Strategic planner and marketing consultant. During my time at Dentsu, I planned and executed campaigns and marketing strategies primarily for automobiles, home electronics, and alcoholic beverages. I have extensive branding knowledge tailored to the situation of various brands, ranging from premium imported cars to canned shochu high. I was a key member of Dentsu's consumer research project and Dentsu Desire Design. Hobbies and interests: automobiles, horse racing (racehorse owner), dogs.\n",
            "Human: Are there any talented people in the automobile industry?\u001b[0m\n",
            "\n",
            "\u001b[1m> Finished chain.\u001b[0m\n",
            "\n",
            "\u001b[1m> Finished chain.\u001b[0m\n"
          ]
        },
        {
          "data": {
            "text/plain": [
              "Yes, there are several talented individuals in the automobile industry. For example, 江坂俊弥 specializes in brand, sales, and public relations strategies for automotive brands, while 福井常晶 is a strategic planner and marketing consultant with extensive experience in planning and executing campaigns and marketing strategies primarily for automobiles. These individuals have a wealth of knowledge and experience in the automobile industry."
            ]
          },
          "metadata": {},
          "output_type": "display_data"
        }
      ],
      "source": [
        "result3 = chat(\"Are there any talented people in the automobile industry?\", reset_memory=True, verbose=True)"
      ]
    },
    {
      "cell_type": "markdown",
      "metadata": {
        "id": "gcZGGL8rXIJ6"
      },
      "source": [
        "### Q4. Wide experience"
      ]
    },
    {
      "cell_type": "code",
      "execution_count": null,
      "metadata": {
        "id": "68xlcoj0XIJ6",
        "outputId": "eea4f299-8586-471d-85cd-c22ece7ff654"
      },
      "outputs": [
        {
          "name": "stdout",
          "output_type": "stream",
          "text": [
            "\n",
            "\n",
            "\u001b[1m> Entering new StuffDocumentsChain chain...\u001b[0m\n",
            "\n",
            "\n",
            "\u001b[1m> Entering new LLMChain chain...\u001b[0m\n",
            "Prompt after formatting:\n",
            "\u001b[32;1m\u001b[1;3mSystem: Use the following pieces of context to answer the user's question. \n",
            "If you don't know the answer, just say that you don't know, don't try to make up an answer.\n",
            "----------------\n",
            "name: 村上容\n",
            "company: \n",
            "profile: I have been dedicated to sales. I have experience working in regional areas and have been involved in various industries such as automobiles, travel, daily necessities, and fashion, in various forms of work including media, events, and development. I was also a member of the Junior Chamber International (Osaka Junior Chamber, Japan Junior Chamber), which became a catalyst for considering becoming a freelancer. I also want to leverage the knowledge I gained at an advertising agency with a perspective similar to that of a small and medium-sized enterprise owner.\n",
            "\n",
            "name: 田中信敬\n",
            "company: 株式会社９Fire\n",
            "profile: Engaged in solving customer issues as a business producer in BtoB sales at Dentsu Inc. for many years, handling numerous clients in various industries. Subsequently, made a career change to the human resources field, primarily focusing on human resource management, recruitment, training, and senior reemployment. Participated in NH to aim for a life shift in the human resources field, particularly providing consulting and practical support for recruitment in companies. Also involved in career education and job hunting support at universities. Holds a national qualification as a career consultant and is a certified analyst by the Japan Securities Analysts Association.\n",
            "\n",
            "name: 村松正基\n",
            "company: 株式会社ＭＬＤＯ\n",
            "profile: ●I started my career at the Hokkaido branch and spent almost 25 years in sales both domestically and internationally. However, at the age of 50, I made a career shift and moved into the field of HR. Since then, I have been leading the HR and labor affairs departments at Dentsu and domestic group companies until my retirement. Leveraging the qualifications I obtained as a Certified Social Insurance Labor Consultant and AFP, I aim to expand business opportunities. ●Based in my hometown of Fujieda City, Shizuoka Prefecture, I aspire to develop mechanisms for local revitalization. I am considering plans to uplift the entire area by matching specialized knowledge, skills, and tech-savvy companies and talent with local government, chambers of commerce, and local businesses.\n",
            "\n",
            "name: 牧野浩司\n",
            "company: Anchor企画\n",
            "profile: I worked at a newspaper company for 2 years, and since then, I have been mostly engaged in sales, facing clients. There have been good times and bad times. I also had the opportunity to work on projects related to the Olympics, which was a very valuable experience. I have had plenty of experience with competitive presentations, and I have always done my best, but I remember being troubled by the fact that it's not easy to win. I have handled various client accounts, but the experience during the 3.11 incident at Tokyo Electric Power Company was truly a seismic event that made me wonder if I would ever have such an experience. Working in the midst of uncertainty about what the future holds was extremely challenging, but I felt that I truly formed a strong bond with the clients.\n",
            "\n",
            "name: 孫麗\n",
            "company: 株式会社Infi Delta\n",
            "profile: ① 13 years of experience in global HR management: reformed HR systems at overseas locations according to business development stages, implemented establishment of management foundation; led integration and reconstruction of vision, organization, and personnel as part of PMI across multicultural and cross-organizational environments in China, Taiwan, Hong Kong, South Korea, etc.; involved in overall HR strategy formulation as a member of the global HR leadership team; experience in organizational restructuring and personnel reallocation with the launch of new businesses; ② 5 years of experience in launching new businesses: consideration of overseas M&A business targets, investment in startups, and joint business development; ③ Experience in workshop facilitation and leadership coaching; ④ Trilingual: English, Chinese, Japanese\n",
            "Human: Do you have people with a wide range of experience from human resources to sales?\u001b[0m\n",
            "\n",
            "\u001b[1m> Finished chain.\u001b[0m\n",
            "\n",
            "\u001b[1m> Finished chain.\u001b[0m\n"
          ]
        },
        {
          "data": {
            "text/plain": [
              "Yes, we have several individuals with diverse experience in both human resources and sales. 村上容 has experience in sales across various industries, while 村松正基 transitioned from sales to HR and has been leading HR and labor affairs departments. Additionally, 孫麗 has extensive global HR management experience and has been involved in launching new businesses."
            ]
          },
          "metadata": {},
          "output_type": "display_data"
        }
      ],
      "source": [
        "result4 = chat(\"Do you have people with a wide range of experience from human resources to sales?\", reset_memory=True, verbose=True)"
      ]
    },
    {
      "cell_type": "markdown",
      "metadata": {
        "id": "5APGwORaXIJ6"
      },
      "source": [
        "### Q5. Poster project"
      ]
    },
    {
      "cell_type": "code",
      "execution_count": null,
      "metadata": {
        "id": "lZPD41MXXIJ6",
        "outputId": "18199bc4-3190-4fd3-fa79-2a1cd9410a07"
      },
      "outputs": [
        {
          "name": "stdout",
          "output_type": "stream",
          "text": [
            "\n",
            "\n",
            "\u001b[1m> Entering new StuffDocumentsChain chain...\u001b[0m\n",
            "\n",
            "\n",
            "\u001b[1m> Entering new LLMChain chain...\u001b[0m\n",
            "Prompt after formatting:\n",
            "\u001b[32;1m\u001b[1;3mSystem: Use the following pieces of context to answer the user's question. \n",
            "If you don't know the answer, just say that you don't know, don't try to make up an answer.\n",
            "----------------\n",
            "name: 関本みよ\n",
            "company: 株式会社はな\n",
            "profile: I handle almost anything other than commercials. I am looking forward to working on event projects. Many people consult me because they don't know who to talk to. I am a knitting enthusiast and I am researching the kitchen. I often work on projects related to food, regional areas, and cosmetics. I tend to plan reading materials.\n",
            "\n",
            "name: 廣瀬誠\n",
            "company: \n",
            "profile: I work in the role of connecting 'people, things, and events in the region' that are not concentrated in urban areas with 'someone, somewhere, or something somewhere.' By the way, my favorite things are Japanese swordsmanship (Shinkage-ryu martial arts) and Japanese traditional performing arts (Noh theater). I plan to continue practicing for the rest of my life.\n",
            "\n",
            "name: 田中誠\n",
            "company: かねまん\n",
            "profile: I am actively engaged in 'consulting to fill the gap' for solving various challenges. With extensive experience in sales and procurement of media (especially television and OOH) at Dentsu, I have served as a coordinator both within the company and with external parties, taking on various negotiation and promotion roles. I have accumulated experience from on-site work to management. The tenacious coordination and negotiation skills developed through these experiences are my strengths. I believe I can help in resolving various barriers and gaps that hinder progress, by facing the challenges of clients and running alongside them for their resolution. Currently, I am active in Aichi Prefecture. Thank you for your support.\n",
            "\n",
            "name: 田代浩史\n",
            "company: 田代デザインスタジオ\n",
            "profile: I specialize in graphic design and universal design. My concept is that 'I live because you exist. Something new is born because of differences. There are hints to richness in the unreachable aspects of design.' I will continue with this concept. I would be happy if I could help even a little in solving social issues such as diversity, human rights, and the environment. ●IAUD International Design Award 2021 Communication Design Division Silver Award 'Easy-to-see COVID-19 Prevention Pictogram' https://www.iaud.net/award/17962/#s-07\n",
            "\n",
            "name: 鈴木宏法\n",
            "company: Private Office　／　ウエストワン　顧問\n",
            "profile: I serve as an advisor to the individual trading company West One, which has a wide network in Asia and extensively in Europe and the United States. In addition to large corporations, I will propose plans for niche materials and products manufactured by small and medium-sized enterprises that seem exportable, as well as import materials that can be effectively utilized by Japanese companies, in order to facilitate business matching for small and medium-sized enterprises. The underlying intention is to promote activities that contribute to SDGs utilizing the achievements in social marketing cultivated in the past, as well as activities contributing to regional revitalization.\n",
            "Human: I have a project to make a poster for Sendai City, is there anyone who can help?\u001b[0m\n",
            "\n",
            "\u001b[1m> Finished chain.\u001b[0m\n",
            "\n",
            "\u001b[1m> Finished chain.\u001b[0m\n"
          ]
        },
        {
          "data": {
            "text/plain": [
              "You may want to reach out to 関本みよ, who has experience in event projects and graphic design. She may be able to help you with creating a poster for Sendai City."
            ]
          },
          "metadata": {},
          "output_type": "display_data"
        }
      ],
      "source": [
        "result5 = chat(\"I have a project to make a poster for Sendai City, is there anyone who can help?\", reset_memory=True, verbose=True)"
      ]
    },
    {
      "cell_type": "markdown",
      "metadata": {
        "id": "hjlsUKBPXIJ6"
      },
      "source": [
        "## Evaluation part\n",
        "\n",
        "See [here](https://docs.ragas.io/en/latest/concepts/metrics/index.html) for explanation for each metric."
      ]
    },
    {
      "cell_type": "code",
      "execution_count": null,
      "metadata": {
        "id": "sl99XA4xXIJ7"
      },
      "outputs": [],
      "source": [
        "from ragas.metrics import faithfulness, answer_relevancy, context_precision, context_relevancy\n",
        "from ragas.langchain import RagasEvaluatorChain\n",
        "\n",
        "eval_chains = {\n",
        "    m.name: RagasEvaluatorChain(metric=m)\n",
        "    for m in [faithfulness, answer_relevancy, context_precision, context_relevancy]\n",
        "}\n",
        "\n",
        "def eval(result):\n",
        "    result_dict = {}\n",
        "    result['result'] = result['answer']\n",
        "    result['query'] = result['question']\n",
        "    for name, eval_chain in eval_chains.items():\n",
        "        score_name = f\"{name}_score\"\n",
        "        score = eval_chain(result)[score_name]\n",
        "        result_dict[score_name] = score\n",
        "        print(f\"{score_name}: {score}\")\n",
        "    return result_dict"
      ]
    },
    {
      "cell_type": "code",
      "execution_count": null,
      "metadata": {
        "id": "5yKR_fwkXIJ7"
      },
      "outputs": [],
      "source": [
        "results = [result0, result1, result2, result3, result4, result5]\n",
        "results_dict = [{'question':res['question'], 'answer':res['answer']} for res in results]\n",
        "\n",
        "def show_eval(question_id):\n",
        "    result = results[question_id]\n",
        "    print(f\"Q{question_id+1}/6\")\n",
        "    print(result.get('answer'))\n",
        "    print('---')\n",
        "    result_dict = eval(result)\n",
        "    results_dict[question_id].update(result_dict)"
      ]
    },
    {
      "cell_type": "code",
      "execution_count": null,
      "metadata": {
        "id": "u6fawtWlXIJ7",
        "outputId": "19f45ea4-a04c-4b84-d3c9-b40480463ae5"
      },
      "outputs": [
        {
          "name": "stdout",
          "output_type": "stream",
          "text": [
            "Q1/6\n",
            "I recommend 江上徹, who is a Certified Public Accountant with extensive experience in both accounting and English proficiency. He has approximately 10 years of experience in a certified public accounting firm and another 10 years in corporate accounting, making him a seasoned professional in the field. Additionally, he has experience in consulting, internal and external audits, and corporate training, making him a well-rounded specialist in accounting.\n",
            "---\n",
            "faithfulness_score: 1.0\n",
            "answer_relevancy_score: 0.8582594149160423\n",
            "context_precision_score: 0.9999999999666667\n",
            "context_relevancy_score: 0.0\n"
          ]
        }
      ],
      "source": [
        "show_eval(0)"
      ]
    },
    {
      "cell_type": "code",
      "execution_count": null,
      "metadata": {
        "id": "PBAF9z2XXIJ7",
        "outputId": "7a1270f1-54b1-48ad-84da-11f6674a2f52"
      },
      "outputs": [
        {
          "name": "stdout",
          "output_type": "stream",
          "text": [
            "Q2/6\n",
            "Based on the profiles provided, I would recommend introducing you to 二村暢朗, the marketing director at 株式会社ハビタットラボ. He has extensive experience in marketing and has worked with a wide range of clients, from major to emerging companies, across various industries. Additionally, he has expertise in consulting to address management issues and has been serving as a special professor at the Osaka Graduate School of Business. His experience and knowledge could be valuable in addressing your marketing needs.\n",
            "---\n",
            "faithfulness_score: 1.0\n",
            "answer_relevancy_score: 0.8722958435611594\n",
            "context_precision_score: 0.249999999975\n",
            "context_relevancy_score: 0.7741935483870968\n"
          ]
        }
      ],
      "source": [
        "show_eval(1)"
      ]
    },
    {
      "cell_type": "code",
      "execution_count": null,
      "metadata": {
        "id": "xTpVrAx7XIJ7",
        "outputId": "3f33f06b-0f94-4407-e56b-3b2b79aa8a93"
      },
      "outputs": [
        {
          "name": "stdout",
          "output_type": "stream",
          "text": [
            "Q3/6\n",
            "Here are some creative specialists and their backgrounds:\n",
            "\n",
            "1. **市原弘一 (Dansima)**: Worked at Dentsu, handling large-scale clients and responsible for the entire process of brand development. Official title is Creative Director and also works as a copywriter.\n",
            "\n",
            "2. **京井良彦 (株式会社１／１)**: Worked at Dentsu for 20 years, specializing in utilizing creativity beyond the advertising field, handling brand and marketing strategies, innovation business developments, and management strategies. Also a lecturer and author of books related to planning and presentation.\n",
            "\n",
            "3. **宮下裕介 (Action Creative)**: Started as a copywriter at Dentsu, then became a creative director and photographer. Established Action Creative and excels in designing creatives that drive product movement, from top-funnel platforms like TV commercials to middle and bottom-funnel strategies.\n",
            "\n",
            "4. **栗原敏雄 (KURIO creative partners Inc)**: Representative Director of KURIO creative partners Inc. While working at Dentsu, was responsible for devising and implementing mass communication strategies in the creative department. Aims to realize creative work for seniors, by seniors, and for seniors in Japan, a super-aged society.\n",
            "\n",
            "5. **R Kawakami**: A consultant specializing in planning related to digital media and other areas.\n",
            "\n",
            "I hope this helps!\n",
            "---\n",
            "faithfulness_score: 0.8\n",
            "answer_relevancy_score: 0.8347941350400957\n",
            "context_precision_score: 0.0\n",
            "context_relevancy_score: 0.020833333333333332\n"
          ]
        }
      ],
      "source": [
        "show_eval(2)"
      ]
    },
    {
      "cell_type": "code",
      "execution_count": null,
      "metadata": {
        "id": "cRhm-eDkXIJ7",
        "outputId": "8c539125-4a70-4c53-b6c0-75384aeb16e6"
      },
      "outputs": [
        {
          "name": "stdout",
          "output_type": "stream",
          "text": [
            "Q4/6\n",
            "Yes, there are several talented individuals in the automobile industry. For example, 江坂俊弥 specializes in brand, sales, and public relations strategies for automotive brands, while 福井常晶 is a strategic planner and marketing consultant with extensive experience in planning and executing campaigns and marketing strategies primarily for automobiles. These individuals have a wealth of knowledge and experience in the automobile industry.\n",
            "---\n",
            "faithfulness_score: 1.0\n",
            "answer_relevancy_score: 0.9895215446605471\n",
            "context_precision_score: 0.0\n",
            "context_relevancy_score: 0.03333333333333333\n"
          ]
        }
      ],
      "source": [
        "show_eval(3)"
      ]
    },
    {
      "cell_type": "code",
      "execution_count": null,
      "metadata": {
        "id": "jvD8HQ1SXIJ8",
        "outputId": "0c4ab39f-10ce-4dde-8006-fc8af35504c6"
      },
      "outputs": [
        {
          "name": "stdout",
          "output_type": "stream",
          "text": [
            "Q5/6\n",
            "Yes, we have several individuals with diverse experience in both human resources and sales. 村上容 has experience in sales across various industries, while 村松正基 transitioned from sales to HR and has been leading HR and labor affairs departments. Additionally, 孫麗 has extensive global HR management experience and has been involved in launching new businesses.\n",
            "---\n",
            "faithfulness_score: 1.0\n",
            "answer_relevancy_score: 0.9705607092370858\n",
            "context_precision_score: 0.4499999999775\n",
            "context_relevancy_score: 0.0\n"
          ]
        }
      ],
      "source": [
        "show_eval(4)"
      ]
    },
    {
      "cell_type": "code",
      "execution_count": null,
      "metadata": {
        "id": "XqgC4BVCXIJ8",
        "outputId": "9a7e88d8-ea92-45a2-884f-354a1955590b"
      },
      "outputs": [
        {
          "name": "stdout",
          "output_type": "stream",
          "text": [
            "Q6/6\n",
            "You may want to reach out to 関本みよ, who has experience in event projects and graphic design. She may be able to help you with creating a poster for Sendai City.\n",
            "---\n",
            "faithfulness_score: 0.3333333333333333\n",
            "answer_relevancy_score: 0.963082671095895\n",
            "context_precision_score: 0.0\n",
            "context_relevancy_score: 0.0\n"
          ]
        }
      ],
      "source": [
        "show_eval(5)"
      ]
    }
  ],
  "metadata": {
    "colab": {
      "collapsed_sections": [
        "UxMvfmYAgoNB"
      ],
      "provenance": []
    },
    "kernelspec": {
      "display_name": "Python 3",
      "name": "python3"
    },
    "language_info": {
      "codemirror_mode": {
        "name": "ipython",
        "version": 3
      },
      "file_extension": ".py",
      "mimetype": "text/x-python",
      "name": "python",
      "nbconvert_exporter": "python",
      "pygments_lexer": "ipython3",
      "version": "3.10.13"
    }
  },
  "nbformat": 4,
  "nbformat_minor": 0
}